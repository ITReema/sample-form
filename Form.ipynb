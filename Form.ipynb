{
 "cells": [
  {
   "cell_type": "code",
   "execution_count": null,
   "metadata": {},
   "outputs": [],
   "source": [
    "from ipywidgets import *\n",
    "from IPython.display import display\n",
    "\n",
    "name = input(\"Enter your name:\")\n",
    "print(\"Hello \", name )\n",
    "\n",
    "print(\"Please answer this questions!\"),\n",
    "\n",
    "age = widgets.DatePicker(\n",
    "        description = 'Age:',\n",
    "        disabled = False \n",
    ")\n",
    "\n",
    "gender = widgets.RadioButtons(\n",
    "        options=['Male','Female'],\n",
    "        value = 'Male',\n",
    "        description = 'Gender: ',\n",
    "        disabled = False \n",
    ")\n",
    "\n",
    "color= widgets.ColorPicker(\n",
    "    concise = False,\n",
    "    description = 'Color:',\n",
    "    value = 'Red',\n",
    "    disabled = False \n",
    ")\n",
    "\n",
    "food= widgets.SelectMultiple(\n",
    "    options=['Pizza','Pasta','Rice', 'Burger'],\n",
    "    value = ['Pizza'],\n",
    "    description = 'Fevorite Eat: ',\n",
    "    disabled = False \n",
    ")\n",
    "display(age)\n",
    "display(gender)\n",
    "display(color)\n",
    "display(food)"
   ]
  }
 ],
 "metadata": {
  "kernelspec": {
   "display_name": "Python 3",
   "language": "python",
   "name": "python3"
  },
  "language_info": {
   "codemirror_mode": {
    "name": "ipython",
    "version": 3
   },
   "file_extension": ".py",
   "mimetype": "text/x-python",
   "name": "python",
   "nbconvert_exporter": "python",
   "pygments_lexer": "ipython3",
   "version": "3.7.3"
  }
 },
 "nbformat": 4,
 "nbformat_minor": 2
}
